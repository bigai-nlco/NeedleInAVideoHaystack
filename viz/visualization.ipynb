{
 "cells": [
  {
   "cell_type": "code",
   "execution_count": null,
   "id": "69dfbae3-2020-436d-8e6f-4b2c6e6f7135",
   "metadata": {},
   "outputs": [],
   "source": [
    "import pandas as pd\n",
    "import seaborn as sns\n",
    "import matplotlib.pyplot as plt\n",
    "from matplotlib.colors import LinearSegmentedColormap\n",
    "import pandas as pd\n",
    "import json\n",
    "import os\n",
    "import glob"
   ]
  },
  {
   "cell_type": "code",
   "execution_count": null,
   "id": "c8db69cd-abbb-47be-b757-f1e0383007f0",
   "metadata": {},
   "outputs": [],
   "source": [
    "# Path to the directory containing JSON results\n",
    "folder_path = '../results/MALMM/'  # Replace with your folder path\n",
    "\n",
    "# Using glob to find all json files in the directory\n",
    "json_files = glob.glob(f\"{folder_path}/*.json\")\n",
    "\n",
    "# List to hold the data\n",
    "data = []\n",
    "\n",
    "avg_score = 0\n",
    "avg_cnt = 0\n",
    "\n",
    "# Iterating through each file and extract the 3 columns we need\n",
    "for file in json_files:\n",
    "    with open(file, 'r') as f:\n",
    "        json_data = json.load(f)\n",
    "        # Extracting the required fields\n",
    "        video_depth = json_data.get(\"depth_percent\", None)\n",
    "        context_length = json_data.get(\"context_length\", None)\n",
    "        score = json_data.get(\"score\", None)\n",
    "        # Appending to the list\n",
    "        data.append({\n",
    "            \"Video Depth\": video_depth,\n",
    "            \"Context Length\": context_length,\n",
    "            \"Score\": score\n",
    "        })\n",
    "        avg_score += score\n",
    "        avg_cnt += 1\n",
    "print(avg_score / avg_cnt)\n",
    "\n",
    "# Creating a DataFrame\n",
    "df = pd.DataFrame(data)\n",
    "\n",
    "print (df.head())\n",
    "print (f\"You have {len(df)} rows\")"
   ]
  },
  {
   "cell_type": "code",
   "execution_count": null,
   "id": "a784de41-f317-4dd4-a97f-a73c02f7039e",
   "metadata": {},
   "outputs": [],
   "source": [
    "pivot_table = pd.pivot_table(df, values='Score', index=['Video Depth', 'Context Length'], aggfunc='mean').reset_index() # This will aggregate\n",
    "pivot_table = pivot_table.pivot(index=\"Video Depth\", columns=\"Context Length\", values=\"Score\") # This will turn into a proper pivot\n",
    "pivot_table.iloc[:5, :5]"
   ]
  },
  {
   "cell_type": "code",
   "execution_count": null,
   "id": "5a0ff1a1-e8fc-4e89-a08b-69ca8cfe3cfa",
   "metadata": {},
   "outputs": [],
   "source": [
    "# Create a custom colormap. Go to https://coolors.co/ and pick cool colors\n",
    "cmap = LinearSegmentedColormap.from_list(\"custom_cmap\", [\"#F0496E\", \"#EBB839\", \"#0CD79F\"])\n",
    "\n",
    "# Create the heatmap with better aesthetics\n",
    "plt.figure(figsize=(17.5, 8))  # Can adjust these dimensions as needed\n",
    "sns.heatmap(\n",
    "    pivot_table,\n",
    "    # annot=True,\n",
    "    fmt=\"g\",\n",
    "    cmap=cmap,\n",
    "    cbar_kws={'label': 'Score'}\n",
    ")\n",
    "\n",
    "# More aesthetics\n",
    "plt.title('MALMM')  # Adds a title\n",
    "plt.xlabel('Second Limit')  # X-axis label\n",
    "plt.ylabel('Depth Percent')  # Y-axis label\n",
    "plt.xticks(rotation=45)  # Rotates the x-axis labels to prevent overlap\n",
    "plt.yticks(rotation=0)  # Ensures the y-axis labels are horizontal\n",
    "plt.tight_layout()  # Fits everything neatly into the figure area\n",
    "\n",
    "# Show the plot\n",
    "# plt.show()\n",
    "plt.savefig(\"../img/malmm.pdf\")"
   ]
  }
 ],
 "metadata": {
  "kernelspec": {
   "display_name": "Python 3 (ipykernel)",
   "language": "python",
   "name": "python3"
  },
  "language_info": {
   "codemirror_mode": {
    "name": "ipython",
    "version": 3
   },
   "file_extension": ".py",
   "mimetype": "text/x-python",
   "name": "python",
   "nbconvert_exporter": "python",
   "pygments_lexer": "ipython3",
   "version": "3.8.13"
  }
 },
 "nbformat": 4,
 "nbformat_minor": 5
}
